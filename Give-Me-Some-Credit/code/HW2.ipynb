{
 "cells": [
  {
   "cell_type": "code",
   "execution_count": 1,
   "id": "initial_id",
   "metadata": {
    "collapsed": true,
    "ExecuteTime": {
     "end_time": "2024-03-25T11:52:02.037679600Z",
     "start_time": "2024-03-25T11:52:01.413453200Z"
    }
   },
   "outputs": [],
   "source": [
    "import matplotlib.pyplot as plt\n",
    "%matplotlib inline\n",
    "import pandas as pd\n",
    "import numpy as np"
   ]
  },
  {
   "cell_type": "markdown",
   "source": [
    "# 1. Load the data"
   ],
   "metadata": {
    "collapsed": false
   },
   "id": "f73b8e0bf379198c"
  },
  {
   "cell_type": "code",
   "outputs": [],
   "source": [
    "df = pd.read_csv('Kaggle-Give-Me-Some-Data/cs-training.csv')"
   ],
   "metadata": {
    "collapsed": false,
    "ExecuteTime": {
     "end_time": "2024-03-25T11:52:02.128232300Z",
     "start_time": "2024-03-25T11:52:02.038674900Z"
    }
   },
   "id": "8c794f02eeff2bd",
   "execution_count": 2
  },
  {
   "cell_type": "code",
   "outputs": [
    {
     "data": {
      "text/plain": "   Unnamed: 0  SeriousDlqin2yrs  RevolvingUtilizationOfUnsecuredLines  age  \\\n0           1                 1                              0.766127   45   \n1           2                 0                              0.957151   40   \n2           3                 0                              0.658180   38   \n3           4                 0                              0.233810   30   \n4           5                 0                              0.907239   49   \n\n   NumberOfTime30-59DaysPastDueNotWorse  DebtRatio  MonthlyIncome  \\\n0                                     2   0.802982         9120.0   \n1                                     0   0.121876         2600.0   \n2                                     1   0.085113         3042.0   \n3                                     0   0.036050         3300.0   \n4                                     1   0.024926        63588.0   \n\n   NumberOfOpenCreditLinesAndLoans  NumberOfTimes90DaysLate  \\\n0                               13                        0   \n1                                4                        0   \n2                                2                        1   \n3                                5                        0   \n4                                7                        0   \n\n   NumberRealEstateLoansOrLines  NumberOfTime60-89DaysPastDueNotWorse  \\\n0                             6                                     0   \n1                             0                                     0   \n2                             0                                     0   \n3                             0                                     0   \n4                             1                                     0   \n\n   NumberOfDependents  \n0                 2.0  \n1                 1.0  \n2                 0.0  \n3                 0.0  \n4                 0.0  ",
      "text/html": "<div>\n<style scoped>\n    .dataframe tbody tr th:only-of-type {\n        vertical-align: middle;\n    }\n\n    .dataframe tbody tr th {\n        vertical-align: top;\n    }\n\n    .dataframe thead th {\n        text-align: right;\n    }\n</style>\n<table border=\"1\" class=\"dataframe\">\n  <thead>\n    <tr style=\"text-align: right;\">\n      <th></th>\n      <th>Unnamed: 0</th>\n      <th>SeriousDlqin2yrs</th>\n      <th>RevolvingUtilizationOfUnsecuredLines</th>\n      <th>age</th>\n      <th>NumberOfTime30-59DaysPastDueNotWorse</th>\n      <th>DebtRatio</th>\n      <th>MonthlyIncome</th>\n      <th>NumberOfOpenCreditLinesAndLoans</th>\n      <th>NumberOfTimes90DaysLate</th>\n      <th>NumberRealEstateLoansOrLines</th>\n      <th>NumberOfTime60-89DaysPastDueNotWorse</th>\n      <th>NumberOfDependents</th>\n    </tr>\n  </thead>\n  <tbody>\n    <tr>\n      <th>0</th>\n      <td>1</td>\n      <td>1</td>\n      <td>0.766127</td>\n      <td>45</td>\n      <td>2</td>\n      <td>0.802982</td>\n      <td>9120.0</td>\n      <td>13</td>\n      <td>0</td>\n      <td>6</td>\n      <td>0</td>\n      <td>2.0</td>\n    </tr>\n    <tr>\n      <th>1</th>\n      <td>2</td>\n      <td>0</td>\n      <td>0.957151</td>\n      <td>40</td>\n      <td>0</td>\n      <td>0.121876</td>\n      <td>2600.0</td>\n      <td>4</td>\n      <td>0</td>\n      <td>0</td>\n      <td>0</td>\n      <td>1.0</td>\n    </tr>\n    <tr>\n      <th>2</th>\n      <td>3</td>\n      <td>0</td>\n      <td>0.658180</td>\n      <td>38</td>\n      <td>1</td>\n      <td>0.085113</td>\n      <td>3042.0</td>\n      <td>2</td>\n      <td>1</td>\n      <td>0</td>\n      <td>0</td>\n      <td>0.0</td>\n    </tr>\n    <tr>\n      <th>3</th>\n      <td>4</td>\n      <td>0</td>\n      <td>0.233810</td>\n      <td>30</td>\n      <td>0</td>\n      <td>0.036050</td>\n      <td>3300.0</td>\n      <td>5</td>\n      <td>0</td>\n      <td>0</td>\n      <td>0</td>\n      <td>0.0</td>\n    </tr>\n    <tr>\n      <th>4</th>\n      <td>5</td>\n      <td>0</td>\n      <td>0.907239</td>\n      <td>49</td>\n      <td>1</td>\n      <td>0.024926</td>\n      <td>63588.0</td>\n      <td>7</td>\n      <td>0</td>\n      <td>1</td>\n      <td>0</td>\n      <td>0.0</td>\n    </tr>\n  </tbody>\n</table>\n</div>"
     },
     "execution_count": 3,
     "metadata": {},
     "output_type": "execute_result"
    }
   ],
   "source": [
    "df.head()"
   ],
   "metadata": {
    "collapsed": false,
    "ExecuteTime": {
     "end_time": "2024-03-25T11:52:02.142303100Z",
     "start_time": "2024-03-25T11:52:02.130226600Z"
    }
   },
   "id": "d9df40985de27308",
   "execution_count": 3
  },
  {
   "cell_type": "code",
   "outputs": [],
   "source": [
    "X = df.iloc[:, 2:].values\n",
    "y = df.iloc[:, 1].values"
   ],
   "metadata": {
    "collapsed": false,
    "ExecuteTime": {
     "end_time": "2024-03-25T11:52:02.166062300Z",
     "start_time": "2024-03-25T11:52:02.140324100Z"
    }
   },
   "id": "e8457370561ac8b8",
   "execution_count": 4
  },
  {
   "cell_type": "code",
   "outputs": [],
   "source": [
    "from sklearn.model_selection import train_test_split\n",
    "X_train, X_test, y_train, y_test = train_test_split(X, y, \n",
    "                                                    test_size=0.3, \n",
    "                                                    stratify=y, \n",
    "                                                    random_state=1)"
   ],
   "metadata": {
    "collapsed": false,
    "ExecuteTime": {
     "end_time": "2024-03-25T11:52:02.698833500Z",
     "start_time": "2024-03-25T11:52:02.152109600Z"
    }
   },
   "id": "ac8dc25ded2db2e2",
   "execution_count": 5
  },
  {
   "cell_type": "markdown",
   "source": [
    "# 2. Data Preprocessing"
   ],
   "metadata": {
    "collapsed": false
   },
   "id": "63b9bad1cb71686f"
  },
  {
   "cell_type": "code",
   "outputs": [],
   "source": [
    "from sklearn.impute import SimpleImputer\n",
    "from sklearn.preprocessing import StandardScaler\n",
    "from sklearn.pipeline import Pipeline\n",
    "preprocessor = Pipeline(steps=[('impute', SimpleImputer(strategy='median')),    # fill missing values with median\n",
    "                               ('scaler', StandardScaler())])   # standardize the data"
   ],
   "metadata": {
    "collapsed": false,
    "ExecuteTime": {
     "end_time": "2024-03-25T11:52:02.763494100Z",
     "start_time": "2024-03-25T11:52:02.660022700Z"
    }
   },
   "id": "97141bbddb790f3d",
   "execution_count": 6
  },
  {
   "cell_type": "markdown",
   "source": [
    "# 3. Demetionality Reduction"
   ],
   "metadata": {
    "collapsed": false
   },
   "id": "a36756ed28aefb6a"
  },
  {
   "cell_type": "code",
   "outputs": [
    {
     "data": {
      "text/plain": "array([0.29951933, 0.15335769, 0.12368526, 0.10203644, 0.09971611,\n       0.09259887, 0.07239249, 0.05431415, 0.00170543, 0.00067423])"
     },
     "execution_count": 7,
     "metadata": {},
     "output_type": "execute_result"
    }
   ],
   "source": [
    "from sklearn.decomposition import PCA\n",
    "pca = PCA()\n",
    "X_train_pca = pca.fit_transform(preprocessor.fit_transform(X_train))\n",
    "pca.explained_variance_ratio_"
   ],
   "metadata": {
    "collapsed": false,
    "ExecuteTime": {
     "end_time": "2024-03-25T11:52:02.925629700Z",
     "start_time": "2024-03-25T11:52:02.763494100Z"
    }
   },
   "id": "a0f26016352bfd37",
   "execution_count": 7
  },
  {
   "cell_type": "code",
   "outputs": [
    {
     "data": {
      "text/plain": "<Figure size 640x480 with 1 Axes>",
      "image/png": "[encoded data removed]"
     },
     "metadata": {},
     "output_type": "display_data"
    }
   ],
   "source": [
    "plt.bar(range(1, pca.explained_variance_ratio_.shape[0]+1), pca.explained_variance_ratio_, alpha=0.5, align='center')\n",
    "plt.step(range(1, pca.explained_variance_ratio_.shape[0]+1), np.cumsum(pca.explained_variance_ratio_), where='mid')\n",
    "plt.ylabel('Explained variance ratio')\n",
    "plt.xlabel('Principal components')\n",
    "plt.axhline(0.95, color='green', linestyle='--')\n",
    "plt.show()"
   ],
   "metadata": {
    "collapsed": false,
    "ExecuteTime": {
     "end_time": "2024-03-25T11:52:03.020508900Z",
     "start_time": "2024-03-25T11:52:02.923636200Z"
    }
   },
   "id": "318d2c2de32882a6",
   "execution_count": 8
  },
  {
   "cell_type": "markdown",
   "source": [
    "We can see that the first 8 principal components explain about 95% of the variance in the data, so we use 8 principal components for the model."
   ],
   "metadata": {
    "collapsed": false
   },
   "id": "f463a4682d52a376"
  },
  {
   "cell_type": "markdown",
   "source": [
    "# 4. Model"
   ],
   "metadata": {
    "collapsed": false
   },
   "id": "e5d89efd40e10b16"
  },
  {
   "cell_type": "code",
   "outputs": [
    {
     "name": "stdout",
     "output_type": "stream",
     "text": [
      "Test Accuracy: 0.933\n"
     ]
    }
   ],
   "source": [
    "from sklearn.linear_model import LogisticRegression\n",
    "\n",
    "pipe_lr = Pipeline(steps=[('preprocessor', preprocessor), \n",
    "                          ('pca', PCA(n_components=8)), \n",
    "                          ('classifier', LogisticRegression(random_state=1))])\n",
    "pipe_lr.fit(X_train, y_train)\n",
    "print('Test Accuracy: %.3f' % pipe_lr.score(X_test, y_test))"
   ],
   "metadata": {
    "collapsed": false,
    "ExecuteTime": {
     "end_time": "2024-03-25T11:52:03.236766300Z",
     "start_time": "2024-03-25T11:52:03.015523900Z"
    }
   },
   "id": "49d2f0ff1f892815",
   "execution_count": 9
  },
  {
   "cell_type": "markdown",
   "source": [
    "# 5. parameter tuning"
   ],
   "metadata": {
    "collapsed": false
   },
   "id": "9811cbb9af65c70d"
  },
  {
   "cell_type": "code",
   "outputs": [
    {
     "name": "stdout",
     "output_type": "stream",
     "text": [
      "Fitting 5 folds for each of 24 candidates, totalling 120 fits\n"
     ]
    },
    {
     "data": {
      "text/plain": "GridSearchCV(cv=StratifiedKFold(n_splits=5, random_state=None, shuffle=False),\n             estimator=Pipeline(steps=[('preprocessor',\n                                        Pipeline(steps=[('impute',\n                                                         SimpleImputer(strategy='median')),\n                                                        ('scaler',\n                                                         StandardScaler())])),\n                                       ('pca', PCA()),\n                                       ('classifier',\n                                        LogisticRegression(random_state=1))]),\n             n_jobs=-1,\n             param_grid={'classifier__C': [0.0001, 0.001, 0.01, 0.1, 1, 10, 100,\n                                           1000],\n                         'classifier__penalty': ['l2'],\n                         'classifier__solver': ['sag'],\n                         'pca__n_components': [6, 8, 10]},\n             scoring='accuracy', verbose=2)",
      "text/html": "<style>#sk-container-id-1 {color: black;}#sk-container-id-1 pre{padding: 0;}#sk-container-id-1 div.sk-toggleable {background-color: white;}#sk-container-id-1 label.sk-toggleable__label {cursor: pointer;display: block;width: 100%;margin-bottom: 0;padding: 0.3em;box-sizing: border-box;text-align: center;}#sk-container-id-1 label.sk-toggleable__label-arrow:before {content: \"▸\";float: left;margin-right: 0.25em;color: #696969;}#sk-container-id-1 label.sk-toggleable__label-arrow:hover:before {color: black;}#sk-container-id-1 div.sk-estimator:hover label.sk-toggleable__label-arrow:before {color: black;}#sk-container-id-1 div.sk-toggleable__content {max-height: 0;max-width: 0;overflow: hidden;text-align: left;background-color: #f0f8ff;}#sk-container-id-1 div.sk-toggleable__content pre {margin: 0.2em;color: black;border-radius: 0.25em;background-color: #f0f8ff;}#sk-container-id-1 input.sk-toggleable__control:checked~div.sk-toggleable__content {max-height: 200px;max-width: 100%;overflow: auto;}#sk-container-id-1 input.sk-toggleable__control:checked~label.sk-toggleable__label-arrow:before {content: \"▾\";}#sk-container-id-1 div.sk-estimator input.sk-toggleable__control:checked~label.sk-toggleable__label {background-color: #d4ebff;}#sk-container-id-1 div.sk-label input.sk-toggleable__control:checked~label.sk-toggleable__label {background-color: #d4ebff;}#sk-container-id-1 input.sk-hidden--visually {border: 0;clip: rect(1px 1px 1px 1px);clip: rect(1px, 1px, 1px, 1px);height: 1px;margin: -1px;overflow: hidden;padding: 0;position: absolute;width: 1px;}#sk-container-id-1 div.sk-estimator {font-family: monospace;background-color: #f0f8ff;border: 1px dotted black;border-radius: 0.25em;box-sizing: border-box;margin-bottom: 0.5em;}#sk-container-id-1 div.sk-estimator:hover {background-color: #d4ebff;}#sk-container-id-1 div.sk-parallel-item::after {content: \"\";width: 100%;border-bottom: 1px solid gray;flex-grow: 1;}#sk-container-id-1 div.sk-label:hover label.sk-toggleable__label {background-color: #d4ebff;}#sk-container-id-1 div.sk-serial::before {content: \"\";position: absolute;border-left: 1px solid gray;box-sizing: border-box;top: 0;bottom: 0;left: 50%;z-index: 0;}#sk-container-id-1 div.sk-serial {display: flex;flex-direction: column;align-items: center;background-color: white;padding-right: 0.2em;padding-left: 0.2em;position: relative;}#sk-container-id-1 div.sk-item {position: relative;z-index: 1;}#sk-container-id-1 div.sk-parallel {display: flex;align-items: stretch;justify-content: center;background-color: white;position: relative;}#sk-container-id-1 div.sk-item::before, #sk-container-id-1 div.sk-parallel-item::before {content: \"\";position: absolute;border-left: 1px solid gray;box-sizing: border-box;top: 0;bottom: 0;left: 50%;z-index: -1;}#sk-container-id-1 div.sk-parallel-item {display: flex;flex-direction: column;z-index: 1;position: relative;background-color: white;}#sk-container-id-1 div.sk-parallel-item:first-child::after {align-self: flex-end;width: 50%;}#sk-container-id-1 div.sk-parallel-item:last-child::after {align-self: flex-start;width: 50%;}#sk-container-id-1 div.sk-parallel-item:only-child::after {width: 0;}#sk-container-id-1 div.sk-dashed-wrapped {border: 1px dashed gray;margin: 0 0.4em 0.5em 0.4em;box-sizing: border-box;padding-bottom: 0.4em;background-color: white;}#sk-container-id-1 div.sk-label label {font-family: monospace;font-weight: bold;display: inline-block;line-height: 1.2em;}#sk-container-id-1 div.sk-label-container {text-align: center;}#sk-container-id-1 div.sk-container {/* jupyter's `normalize.less` sets `[hidden] { display: none; }` but bootstrap.min.css set `[hidden] { display: none !important; }` so we also need the `!important` here to be able to override the default hidden behavior on the sphinx rendered scikit-learn.org. See: https://github.com/scikit-learn/scikit-learn/issues/21755 */display: inline-block !important;position: relative;}#sk-container-id-1 div.sk-text-repr-fallback {display: none;}</style><div id=\"sk-container-id-1\" class=\"sk-top-container\"><div class=\"sk-text-repr-fallback\"><pre>GridSearchCV(cv=StratifiedKFold(n_splits=5, random_state=None, shuffle=False),\n             estimator=Pipeline(steps=[(&#x27;preprocessor&#x27;,\n                                        Pipeline(steps=[(&#x27;impute&#x27;,\n                                                         SimpleImputer(strategy=&#x27;median&#x27;)),\n                                                        (&#x27;scaler&#x27;,\n                                                         StandardScaler())])),\n                                       (&#x27;pca&#x27;, PCA()),\n                                       (&#x27;classifier&#x27;,\n                                        LogisticRegression(random_state=1))]),\n             n_jobs=-1,\n             param_grid={&#x27;classifier__C&#x27;: [0.0001, 0.001, 0.01, 0.1, 1, 10, 100,\n                                           1000],\n                         &#x27;classifier__penalty&#x27;: [&#x27;l2&#x27;],\n                         &#x27;classifier__solver&#x27;: [&#x27;sag&#x27;],\n                         &#x27;pca__n_components&#x27;: [6, 8, 10]},\n             scoring=&#x27;accuracy&#x27;, verbose=2)</pre><b>In a Jupyter environment, please rerun this cell to show the HTML representation or trust the notebook. <br />On GitHub, the HTML representation is unable to render, please try loading this page with nbviewer.org.</b></div><div class=\"sk-container\" hidden><div class=\"sk-item sk-dashed-wrapped\"><div class=\"sk-label-container\"><div class=\"sk-label sk-toggleable\"><input class=\"sk-toggleable__control sk-hidden--visually\" id=\"sk-estimator-id-1\" type=\"checkbox\" ><label for=\"sk-estimator-id-1\" class=\"sk-toggleable__label sk-toggleable__label-arrow\">GridSearchCV</label><div class=\"sk-toggleable__content\"><pre>GridSearchCV(cv=StratifiedKFold(n_splits=5, random_state=None, shuffle=False),\n             estimator=Pipeline(steps=[(&#x27;preprocessor&#x27;,\n                                        Pipeline(steps=[(&#x27;impute&#x27;,\n                                                         SimpleImputer(strategy=&#x27;median&#x27;)),\n                                                        (&#x27;scaler&#x27;,\n                                                         StandardScaler())])),\n                                       (&#x27;pca&#x27;, PCA()),\n                                       (&#x27;classifier&#x27;,\n                                        LogisticRegression(random_state=1))]),\n             n_jobs=-1,\n             param_grid={&#x27;classifier__C&#x27;: [0.0001, 0.001, 0.01, 0.1, 1, 10, 100,\n                                           1000],\n                         &#x27;classifier__penalty&#x27;: [&#x27;l2&#x27;],\n                         &#x27;classifier__solver&#x27;: [&#x27;sag&#x27;],\n                         &#x27;pca__n_components&#x27;: [6, 8, 10]},\n             scoring=&#x27;accuracy&#x27;, verbose=2)</pre></div></div></div><div class=\"sk-parallel\"><div class=\"sk-parallel-item\"><div class=\"sk-item\"><div class=\"sk-label-container\"><div class=\"sk-label sk-toggleable\"><input class=\"sk-toggleable__control sk-hidden--visually\" id=\"sk-estimator-id-2\" type=\"checkbox\" ><label for=\"sk-estimator-id-2\" class=\"sk-toggleable__label sk-toggleable__label-arrow\">estimator: Pipeline</label><div class=\"sk-toggleable__content\"><pre>Pipeline(steps=[(&#x27;preprocessor&#x27;,\n                 Pipeline(steps=[(&#x27;impute&#x27;, SimpleImputer(strategy=&#x27;median&#x27;)),\n                                 (&#x27;scaler&#x27;, StandardScaler())])),\n                (&#x27;pca&#x27;, PCA()),\n                (&#x27;classifier&#x27;, LogisticRegression(random_state=1))])</pre></div></div></div><div class=\"sk-serial\"><div class=\"sk-item\"><div class=\"sk-serial\"><div class=\"sk-item\"><div class=\"sk-label-container\"><div class=\"sk-label sk-toggleable\"><input class=\"sk-toggleable__control sk-hidden--visually\" id=\"sk-estimator-id-3\" type=\"checkbox\" ><label for=\"sk-estimator-id-3\" class=\"sk-toggleable__label sk-toggleable__label-arrow\">preprocessor: Pipeline</label><div class=\"sk-toggleable__content\"><pre>Pipeline(steps=[(&#x27;impute&#x27;, SimpleImputer(strategy=&#x27;median&#x27;)),\n                (&#x27;scaler&#x27;, StandardScaler())])</pre></div></div></div><div class=\"sk-serial\"><div class=\"sk-item\"><div class=\"sk-estimator sk-toggleable\"><input class=\"sk-toggleable__control sk-hidden--visually\" id=\"sk-estimator-id-4\" type=\"checkbox\" ><label for=\"sk-estimator-id-4\" class=\"sk-toggleable__label sk-toggleable__label-arrow\">SimpleImputer</label><div class=\"sk-toggleable__content\"><pre>SimpleImputer(strategy=&#x27;median&#x27;)</pre></div></div></div><div class=\"sk-item\"><div class=\"sk-estimator sk-toggleable\"><input class=\"sk-toggleable__control sk-hidden--visually\" id=\"sk-estimator-id-5\" type=\"checkbox\" ><label for=\"sk-estimator-id-5\" class=\"sk-toggleable__label sk-toggleable__label-arrow\">StandardScaler</label><div class=\"sk-toggleable__content\"><pre>StandardScaler()</pre></div></div></div></div></div><div class=\"sk-item\"><div class=\"sk-estimator sk-toggleable\"><input class=\"sk-toggleable__control sk-hidden--visually\" id=\"sk-estimator-id-6\" type=\"checkbox\" ><label for=\"sk-estimator-id-6\" class=\"sk-toggleable__label sk-toggleable__label-arrow\">PCA</label><div class=\"sk-toggleable__content\"><pre>PCA()</pre></div></div></div><div class=\"sk-item\"><div class=\"sk-estimator sk-toggleable\"><input class=\"sk-toggleable__control sk-hidden--visually\" id=\"sk-estimator-id-7\" type=\"checkbox\" ><label for=\"sk-estimator-id-7\" class=\"sk-toggleable__label sk-toggleable__label-arrow\">LogisticRegression</label><div class=\"sk-toggleable__content\"><pre>LogisticRegression(random_state=1)</pre></div></div></div></div></div></div></div></div></div></div></div></div>"
     },
     "execution_count": 10,
     "metadata": {},
     "output_type": "execute_result"
    }
   ],
   "source": [
    "from sklearn.model_selection import GridSearchCV\n",
    "from sklearn.model_selection import StratifiedKFold\n",
    "\n",
    "kfold = StratifiedKFold(n_splits=5)   # make sure the class distribution is similar in each fold\n",
    "\n",
    "pipe_lr_tune = Pipeline(steps=[('preprocessor', preprocessor), \n",
    "                               ('pca', PCA()), \n",
    "                               ('classifier', LogisticRegression(random_state=1))])\n",
    "param_grid = {'pca__n_components': [6, 8, 10],  \n",
    "              'classifier__C': [10**i for i in range(-4, 4)], \n",
    "              'classifier__penalty': ['l2'],\n",
    "              'classifier__solver': ['sag']}\n",
    "gs = GridSearchCV(estimator=pipe_lr_tune, \n",
    "                  param_grid=param_grid, \n",
    "                  scoring='accuracy', \n",
    "                  cv=kfold,\n",
    "                  verbose=2,\n",
    "                  n_jobs=-1)\n",
    "gs.fit(X_train, y_train)"
   ],
   "metadata": {
    "collapsed": false,
    "ExecuteTime": {
     "end_time": "2024-03-25T11:52:22.411597900Z",
     "start_time": "2024-03-25T11:52:03.229467Z"
    }
   },
   "id": "69ce5fb8d64e67d9",
   "execution_count": 10
  },
  {
   "cell_type": "code",
   "outputs": [
    {
     "name": "stdout",
     "output_type": "stream",
     "text": [
      "Best Accuracy: 0.9333\n"
     ]
    }
   ],
   "source": [
    "print('Best Accuracy: %.4f' % gs.best_score_)"
   ],
   "metadata": {
    "collapsed": false,
    "ExecuteTime": {
     "end_time": "2024-03-25T11:52:22.455193700Z",
     "start_time": "2024-03-25T11:52:22.407212800Z"
    }
   },
   "id": "f4427ed7d594a7d3",
   "execution_count": 11
  },
  {
   "cell_type": "code",
   "outputs": [
    {
     "name": "stdout",
     "output_type": "stream",
     "text": [
      "Best Parameters: {'classifier__C': 0.0001, 'classifier__penalty': 'l2', 'classifier__solver': 'sag', 'pca__n_components': 6}\n"
     ]
    }
   ],
   "source": [
    "print('Best Parameters: %s' % gs.best_params_)"
   ],
   "metadata": {
    "collapsed": false,
    "ExecuteTime": {
     "end_time": "2024-03-25T11:52:22.456191Z",
     "start_time": "2024-03-25T11:52:22.425403Z"
    }
   },
   "id": "d4bf8ad629d333a6",
   "execution_count": 12
  },
  {
   "cell_type": "code",
   "outputs": [
    {
     "name": "stdout",
     "output_type": "stream",
     "text": [
      "Test Accuracy: 0.9334\n"
     ]
    }
   ],
   "source": [
    "print('Test Accuracy: %.4f' % gs.score(X_test, y_test))"
   ],
   "metadata": {
    "collapsed": false,
    "ExecuteTime": {
     "end_time": "2024-03-25T11:52:22.488492900Z",
     "start_time": "2024-03-25T11:52:22.433328600Z"
    }
   },
   "id": "608f83ac2521b954",
   "execution_count": 13
  }
 ],
 "metadata": {
  "kernelspec": {
   "display_name": "Python 3",
   "language": "python",
   "name": "python3"
  },
  "language_info": {
   "codemirror_mode": {
    "name": "ipython",
    "version": 2
   },
   "file_extension": ".py",
   "mimetype": "text/x-python",
   "name": "python",
   "nbconvert_exporter": "python",
   "pygments_lexer": "ipython2",
   "version": "2.7.6"
  }
 },
 "nbformat": 4,
 "nbformat_minor": 5
}
